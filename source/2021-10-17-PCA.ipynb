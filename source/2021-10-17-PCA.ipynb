{
 "cells": [
  {
   "cell_type": "markdown",
   "metadata": {},
   "source": [
    "# Principal Component Anlysis\n",
    "> Get overall idea of PCA, learn how the mathematics behind it works applying the concepts of rotation of axes, eigen value and eigen vectors. Finally code everything from scratch and satisfy yourself seeing our output matches with scikit-learn!\n",
    "\n",
    "- toc:true\n",
    "- badges:true\n",
    "- comments:true\n",
    "- categories:[Dimension Reduction, PCA]\n",
    "- image: images/PCA.png"
   ]
  },
  {
   "cell_type": "markdown",
   "metadata": {
    "id": "JiwwxS3NavU_"
   },
   "source": [
    "## Introduction\n",
    "Suppose our $n$ feature vectors $\\vec{x}_1, \\ \\vec{x}_2, \\ \\vec{x}_3, \\ ...,\\ \\vec{x}_n$ are 2 dimensional. As, we always prefer to create model with fewer number of variables whenever possible, we want to drop one among the two regressors. Now consider, two cases,\n",
    "\n",
    "### Case 1\n",
    "![](https://raw.githubusercontent.com/kkhatua98/All/main/Original.png)\n",
    "We see that, variance in x_2 is much less than x_1; ie. x_2 remain more or less same even if the dependent variable $y$ changes. In simple terms $y$ does not dependent on x_2 as it depends on x_1. Here we can even say that, it does not depend at all (with little risk). So, we can safely drop it.\n",
    "\n",
    "### Case 2\n",
    "Now suppose now scatter plot x_1 vs x_2 looks like this,\n",
    "![](https://raw.githubusercontent.com/kkhatua98/All/main/Rotated.png)\n",
    "Here we cannot say that variance of one variable is much less than the other, there is enough variance in both of the axis. But suppose we are desparate to drop one of the variable. If we consider the red arrow direction in the picture, we see that in this direction variation is much less than the blue arrow direction. This observation is the key to the Principal Component Analysis. If we rotate our axis so that our x_1 axis meets blue arrow and the x_2 axis meets the red arrow, then in the resulting rotated axis we can drop the rotated x_2 axis. Also we can rotate so that we drop the x_1 axis. But we take the approach to drop the later variable (x_2). If we generalise the above concept for multivariate set up, we get,\n",
    "\n",
    "**Rotate the original axes so that variance of the first rotated axis > variance of the next rotated axis > ... and so on.**\n",
    "\n",
    "\n",
    "## Doing the Mathematics\n",
    "Suppose $\\vec{x}$ is our p dimensional feature vector. We want to rotate our original axes, ie. we want a orthogonal matrix $Q$ (ie. $Q^TQ = I$) such that,\n",
    "$$Q.\\vec{x} = \\begin{pmatrix} \\vec{Q_1} \\\\ \\vec{Q_2} \\\\ \\vec{Q_3} \\\\ . \\\\ . \\\\ . \\\\ \\vec{Q_p} \\end{pmatrix}.\\vec{x} = \\begin{pmatrix} \\vec{Q_1}.\\vec{x} \\\\ \\vec{Q_2}.\\vec{x} \\\\ \\vec{Q_3}.\\vec{x} \\\\ . \\\\ . \\\\ . \\\\ \\vec{Q_p}.\\vec{x} \\end{pmatrix} = \\begin{pmatrix} P_1\\\\ P_2 \\\\ P_3 \\\\ . \\\\ . \\\\ . \\\\ P_n \\end{pmatrix} = \\vec{P}$$\n",
    "$$\\text{Here $Q_i$s are row vectors and $P_i$s are scalar}$$\n",
    "\n",
    "Now we have to determine a $Q$ so that in $P$, $var(P_1) > var(P_2) > var(P_3) > ... > var(P_p)$\n",
    "\n",
    "\n",
    "\n",
    "**Note:** Here sum of variances of $P_i$s and sum of variances of the original $x_i$ are same. As,\n",
    "$$\\sum_{i=1}^{p} var(P_i) = Trace(var(Q.\\vec{x})) = Trace(Q\\Sigma Q^T) = Trace(Q^TQ\\Sigma) = Trace(\\Sigma) = \\sum_{i=1}^p var(x_i)$$\n",
    "$\\Sigma$ is the variance covariance matrix of $\\vec{x}$.\n",
    "\n",
    "### Getting the First Axis:\n",
    "\n",
    "$$\\begin{aligned}\n",
    " var(P_1)\n",
    " &= var(\\vec{Q_1}.\\vec{x}) \\\\\n",
    " &= Q_1.var(\\vec{x}).Q_1^T \\\\\n",
    " &\\left.\\begin{aligned}\n",
    " &= Q_1.\\Sigma Q_1^T \\\\\n",
    " &= Q_1ED_{\\lambda}E^TQ_1^T\n",
    " \\end{aligned}\\right\\} \\text{by Eigendecomposition of $\\Sigma$. (1)} \\\\\n",
    " &= AD_{\\lambda}A^T (2) \\\\\n",
    " &= \\sum_{i=1}^p \\lambda_iA_i^2 \\\\\n",
    " &\\le \\lambda_{hi}\\sum_{i=1}^{p}A_i^2 \\\\\n",
    " &= \\lambda_{hi}.1 \\\\\n",
    " &= \\lambda_{hi}\n",
    "\\end{aligned}\n",
    "$$\n",
    "\n",
    "Here, $A = Q_1.E$ (note, this is a column vector)  \n",
    "$D_{\\lambda} =$ Diagonal matrix of eigen values $= diag(\\lambda_1, \\lambda_2, \\lambda_3, ... , \\lambda_p)$  \n",
    "$E =$ Orthogonal matrix of eigen vectors $= (E_1, E_2, E_3, ..., E_p)$, where $E_i$ is the eigen vector corresponding to $\\lambda_i$  \n",
    "and, $\\sum_{i=1}^pA_i^2 = A^T.A = \\underbrace{Q_1.E.E^TQ_1^T = Q_1.I.Q_1^T}_{\\text{$E$ is orthogonal matrix}} = Q_1.Q_1^T = 1$,  \n",
    "$hi$, is the index for which $\\lambda$ is maximum.\n",
    "\n",
    "Now, suppose $E_{hi}$ is the eigen vector corresponding to $\\lambda_{hi}$.\n",
    "\n",
    "Then, $$\\begin{aligned}\n",
    "var(E_{hi}^T.\\vec{x})\n",
    " &= E_{hi}^T\\Sigma E_{hi} \\\\\n",
    " &= E_{hi}^TED_{\\lambda}E^TE_{hi} \\\\\n",
    " &= E_{hi}^T(E_1 \\ E_2 \\ ... \\ E_{hi} \\ ... \\ E_p)D_{\\lambda}\\begin{pmatrix}E_1^T \\\\ E_2^T \\\\ . \\\\ . \\\\ E_{hi}^T \\\\ . \\\\ . \\\\ . \\\\ E_p^T\\end{pmatrix}E_{hri}\\\\\n",
    " &= \\vec{e}_{hi}^TD_{\\lambda}\\vec{e}_{hi} = \\lambda_{hi}\n",
    "\\end{aligned}\n",
    "$$\n",
    "\n",
    "Here, only jth entry of $e_j$ is 1, rest are 0.\n",
    "\n",
    "So, the first Principal Component $Q_1=E_{hi}^T$\n",
    "\n",
    "### Getting the Second Axis\n",
    "$Q$ is orthogonal matrix, so, $Q_2.Q_1^T=0; \\ Q_2.E_{hi}=0$.\n",
    "\n",
    "Now,\n",
    "$$\\begin{aligned}\n",
    "var(P_2) &= var(\\vec{Q_2}.\\vec{x}) \\\\\n",
    " &= \\vec{Q}_2.\\Sigma.\\vec{Q}_2^T \\\\\n",
    " &= \\vec{Q}_2ED_{\\lambda}E^T.\\vec{Q}_2^T \\\\\n",
    " &= \\vec{Q}_2(E_1 \\ E_2 \\ .. \\ E_{hi} \\ .. \\ E_p)D_{\\lambda}\\begin{pmatrix}E_1^T \\\\ E_2^T \\\\ . \\\\ . \\\\ E_{hi}^T \\\\ . \\\\ . \\\\ E_p^T\\end{pmatrix}Q_2^T \\\\\n",
    " &= (\\vec{Q}_2.E_1 \\ \\ \\ \\vec{Q}_2.E_2 \\ \\ \\ .. \\ \\ \\ \\vec{Q}_2E_{hi} \\ ... \\ \\vec{Q}_2E_p)D_{\\lambda}\\begin{pmatrix}\\vec{Q}_2^T.E_1^T \\\\ \\vec{Q}_2^T.E_2^T \\\\ . \\\\ . \\\\ \\vec{Q}_2^T.E_{hi}^T \\\\ . \\\\ . \\\\ . \\\\ \\vec{Q}_2^T.E_p^T\\end{pmatrix} \\\\\n",
    " &=(\\vec{Q}_2.E_1 \\ \\ \\ \\vec{Q}_2.E_2 \\ \\ \\ ... \\ \\ \\ 0 \\ ... \\ \\vec{Q}_2E_p)D_{\\lambda}\\begin{pmatrix}\\vec{Q}_2^T.E_1^T \\\\ \\vec{Q}_2^T.E_2^T \\\\ . \\\\ . \\\\ 0 \\\\ . \\\\ . \\\\ . \\\\ \\vec{Q}_2^T.E_p^T\\end{pmatrix} \\\\\n",
    " &=A_{*} D_{\\lambda}A_{*}^T \\\\\n",
    " &=\\sum_{i=1, i \\neq hi}^p {\\lambda}_i A_{*i}^2 \\\\\n",
    " &\\le \\lambda_{hi_2}\\sum_{i=1, i \\neq hi}^p A_{*i}^2 \\\\\n",
    " &= \\lambda_{hi_2}.1 \\\\\n",
    " &= \\lambda_{hi_2}\n",
    "\\end{aligned}\n",
    "$$\n",
    "where, $\\lambda_{hi_2}$ is the second highest eigen value and $hi_2$ is the index of it  \n",
    "$\\sum_{i=1 \\\\ i \\neq hi}^p A_{*i}^2 = A_*^T.A_* = \\underbrace{Q_2.E.E^TQ_2^T = Q_2.I.Q_2^T}_{\\text{$E$ is orthogonal matrix}} = Q_2.Q_2^T = 1$\n",
    "\n",
    "Now, suppose $E_{hi_2}$ is the eigen vector corresponding to $\\lambda_{hi}$.\n",
    "\n",
    "Then,$$\\begin{aligned}\n",
    "var(E_{hi_2}^T.\\vec{x}) \n",
    " &= E_{hi_2}^T\\Sigma E_{hi_2} \\\\\n",
    " &= E_{hi_2}^TED_{\\lambda}E^TE_{hi_2} \\\\\n",
    " &= E_{hi_2}^T(E_1 \\ E_2 \\ E_3 \\ ... \\ E_{hi_2} \\ ... \\ E_p)D_{\\lambda}\\begin{pmatrix}E_1^T \\\\ E_2^T \\\\ E_3^T \\\\ . \\\\ . \\\\ E_{hi_2}^T \\\\ . \\\\ . \\\\ . \\\\ E_p^T\\end{pmatrix}E_{hi_2} \\\\\n",
    " &= \\vec{e}_{hi_2}^TD_{\\lambda}\\vec{e}_{hi_2} \\\\\n",
    " &= \\lambda_{hi_2}\n",
    "\\end{aligned}\n",
    "$$\n",
    "\n",
    "Here, only jth entry of $e_j$ is 1, rest are 0.\n",
    "\n",
    "So, the first Principal Component $Q_2=E_{hi_2}^T$\n",
    "\n",
    "**Note:**\n",
    "\n",
    "$$\\begin{aligned}\n",
    "cov(P_1, \\ P_2) \n",
    " &= cov(\\vec{Q}_1.\\vec{x}, \\vec{Q_2}.\\vec{x}) \\\\\n",
    " &= cov(\\vec{E}_{hi}^T.\\vec{x}, \\vec{E}_{hi_2}^T.\\vec{x}) \\\\\n",
    " &= \\vec{E}_{hi}^T.\\Sigma \\vec{E}_{hi_2} \\\\\n",
    " &= E_{hi}^T(\\vec{E}_1 \\ \\vec{E}_2 \\ \\vec{E}_3 \\ ... \\ \\vec{E}_{hi} \\ ... \\ \\vec{E}_p)D_{\\lambda}\\begin{pmatrix}\\vec{E}_1^T \\\\ \\vec{E}_2^T \\\\ \\vec{E}_3^T \\\\ . \\\\ . \\\\ \\vec{E}_{hi_2}^T \\\\ . \\\\ . \\\\ . \\\\ \\vec{E}_p^T\\end{pmatrix}.\\vec{E}_{hi_2} \\\\\n",
    " &= (0 \\ 0 \\ 0 \\ ... \\ 1 \\ ... \\ 0)D_{\\lambda}\\begin{pmatrix}0 \\\\ 0 \\\\ 0 \\\\ . \\\\ . \\\\ 1 \\\\ . \\\\ . \\\\ . \\\\ 0\\end{pmatrix} \\\\\n",
    " &=\\underbrace{(0 \\ 0 \\ 0 \\ ... \\ 1 \\ ... \\ 0)}_{\\text{1 in $hi$ position}}\\underbrace{\\begin{pmatrix}0 \\\\ 0 \\\\ 0 \\\\ . \\\\ . \\\\ \\lambda_{hi_2} \\\\ . \\\\ . \\\\ . \\\\ 0\\end{pmatrix}}_{\\text{$\\lambda_{hi_2}$ in $hi_2$ position}} \\\\\n",
    " &=0\n",
    "\\end{aligned}\n",
    "$$, ie covariance is 0, so correlation is also 0.\n",
    "\n",
    "So, one advantage of this rotation is that the resulting axes become **uncorrelated** (not independent). Here we should not get confuse with the concept of orthogonality and uncorrelatedness. Orthogonality is a geometrical concept, where uncorrelatedness is statistical concept. Also, we can rotate the axes in a direction, such that the resulting axes are correlated.\n",
    "\n",
    "Like this we can calculate the remaining Principal Components.\n",
    "\n",
    "## How to Calculate Principal Components for Data\n",
    "Of course when we have data, we do not know the $\\Sigma$ matrix, so we can not calculate the original Principal Components. One obvious choice is that we estimate $\\Sigma$ with sample covariance matrix $$\\hat{\\Sigma} = S = \\frac{1}{n - 1}\\sum_{i=1}^n (\\vec{x}_i - \\bar{x}).(\\vec{x}_i - \\bar{x})^T$$\n",
    "and calculate the eigenvalue, eigenvectors of $S$.\n",
    "\n",
    "### Calculating Principal Components manually and with Scikit-Learn on a dataset.\n",
    "Loading data"
   ]
  },
  {
   "cell_type": "code",
   "execution_count": 1,
   "metadata": {
    "colab": {
     "base_uri": "https://localhost:8080/",
     "height": 204
    },
    "id": "hM6lbSPIatZv",
    "outputId": "9211fad6-848f-4680-d946-843961844ea4"
   },
   "outputs": [
    {
     "data": {
      "text/html": [
       "<div>\n",
       "<style scoped>\n",
       "    .dataframe tbody tr th:only-of-type {\n",
       "        vertical-align: middle;\n",
       "    }\n",
       "\n",
       "    .dataframe tbody tr th {\n",
       "        vertical-align: top;\n",
       "    }\n",
       "\n",
       "    .dataframe thead th {\n",
       "        text-align: right;\n",
       "    }\n",
       "</style>\n",
       "<table border=\"1\" class=\"dataframe\">\n",
       "  <thead>\n",
       "    <tr style=\"text-align: right;\">\n",
       "      <th></th>\n",
       "      <th>x_1</th>\n",
       "      <th>x_2</th>\n",
       "    </tr>\n",
       "  </thead>\n",
       "  <tbody>\n",
       "    <tr>\n",
       "      <th>0</th>\n",
       "      <td>-3.995782</td>\n",
       "      <td>-5.632142</td>\n",
       "    </tr>\n",
       "    <tr>\n",
       "      <th>1</th>\n",
       "      <td>-3.496130</td>\n",
       "      <td>-5.124706</td>\n",
       "    </tr>\n",
       "    <tr>\n",
       "      <th>2</th>\n",
       "      <td>3.630809</td>\n",
       "      <td>8.009889</td>\n",
       "    </tr>\n",
       "    <tr>\n",
       "      <th>3</th>\n",
       "      <td>3.755696</td>\n",
       "      <td>6.889920</td>\n",
       "    </tr>\n",
       "    <tr>\n",
       "      <th>4</th>\n",
       "      <td>-1.945930</td>\n",
       "      <td>-3.323225</td>\n",
       "    </tr>\n",
       "  </tbody>\n",
       "</table>\n",
       "</div>"
      ],
      "text/plain": [
       "        x_1       x_2\n",
       "0 -3.995782 -5.632142\n",
       "1 -3.496130 -5.124706\n",
       "2  3.630809  8.009889\n",
       "3  3.755696  6.889920\n",
       "4 -1.945930 -3.323225"
      ]
     },
     "execution_count": 1,
     "metadata": {},
     "output_type": "execute_result"
    }
   ],
   "source": [
    "import pandas\n",
    "\n",
    "# Loading data\n",
    "data = pandas.read_csv(\"https://raw.githubusercontent.com/kkhatua98/All/main/Transformed_Data.csv\")\n",
    "data.head()"
   ]
  },
  {
   "cell_type": "markdown",
   "metadata": {
    "id": "H6P36jt1YM_B"
   },
   "source": [
    "Visualising Data"
   ]
  },
  {
   "cell_type": "code",
   "execution_count": 4,
   "metadata": {
    "colab": {
     "base_uri": "https://localhost:8080/",
     "height": 372
    },
    "id": "SwZkF5wBX9Rl",
    "outputId": "eb4e8b68-2837-469f-9095-5b74013cd26c"
   },
   "outputs": [
    {
     "data": {
      "image/png": "[encoded data removed]",
      "text/plain": [
       "<Figure size 432x288 with 1 Axes>"
      ]
     },
     "metadata": {
      "needs_background": "light"
     },
     "output_type": "display_data"
    }
   ],
   "source": [
    "import matplotlib.pyplot as plt\n",
    "import seaborn\n",
    "\n",
    "\n",
    "plot = seaborn.scatterplot(x = data[\"x_1\"], y = data[\"x_2\"])\n",
    "plot.set_title(\"x_1   VS   x_2\", y = 1.02)\n",
    "plot.set_xlabel(\"x_1\")\n",
    "plot.set_ylabel(\"x_2\")\n",
    "plt.xlabel(\"x_1\")\n",
    "plt.ylabel(\"x_2\")\n",
    "plt.show()"
   ]
  },
  {
   "cell_type": "markdown",
   "metadata": {
    "id": "Gv_URk95iyfV"
   },
   "source": [
    "Calculating Q manually"
   ]
  },
  {
   "cell_type": "code",
   "execution_count": null,
   "metadata": {
    "colab": {
     "base_uri": "https://localhost:8080/"
    },
    "id": "2SoAJv_Nh-v0",
    "outputId": "ce7de7bb-de9e-4c1b-c57e-b7c6e15adf46"
   },
   "outputs": [
    {
     "name": "stdout",
     "output_type": "stream",
     "text": [
      "[[-0.49748739 -0.86747121]\n",
      " [-0.86747121  0.49748739]]\n"
     ]
    }
   ],
   "source": [
    "import numpy\n",
    "\n",
    "covariance_matrix = data.cov()\n",
    "\n",
    "# Calculating the eigenvalues and eigenvectors\n",
    "eigenvalues, eigenvectors = numpy.linalg.eig(covariance_matrix)\n",
    "\n",
    "# In eigenvalues values are not sorted, but we need in sorted order.\n",
    "idx = eigenvalues.argsort()[::-1]   \n",
    "eigenvalues = eigenvalues[idx]\n",
    "eigenvectors = eigenvectors[:,idx]\n",
    "\n",
    "# In eigenvectors eigenvectors are stored columnwise. But in Q eigenvectors are stored rowsise.\n",
    "# So we have to transpose it.\n",
    "\n",
    "Q_manual = eigenvectors.T\n",
    "\n",
    "print(Q_manual)"
   ]
  },
  {
   "cell_type": "markdown",
   "metadata": {
    "id": "W00gryJblmuW"
   },
   "source": [
    "Calculating Q from Sklearn"
   ]
  },
  {
   "cell_type": "code",
   "execution_count": null,
   "metadata": {
    "colab": {
     "base_uri": "https://localhost:8080/"
    },
    "id": "iXIuzKBGkQHV",
    "outputId": "b540a777-1cbe-4a81-f52b-04f8d57c894c"
   },
   "outputs": [
    {
     "name": "stdout",
     "output_type": "stream",
     "text": [
      "[[ 0.49748739  0.86747121]\n",
      " [ 0.86747121 -0.49748739]]\n"
     ]
    }
   ],
   "source": [
    "from sklearn.decomposition import PCA\n",
    "pca = PCA()\n",
    "\n",
    "pca.fit(data)\n",
    "print(pca.components_)"
   ]
  },
  {
   "cell_type": "markdown",
   "metadata": {
    "id": "-CAT0Psxuwm9"
   },
   "source": [
    "This two results may seem different at first, but note that, every row of pca.components_ is an eigenvector so, changing its sign does not change anything. So, we see that, the rotation matrix calculated manually and from Sklearn are same."
   ]
  }
 ],
 "metadata": {
  "colab": {
   "collapsed_sections": [],
   "name": "Copy of Copy of Copy of Copy of Copy of Copy of All.ipynb",
   "provenance": []
  },
  "kernelspec": {
   "display_name": "Python 3 (ipykernel)",
   "language": "python",
   "name": "python3"
  },
  "language_info": {
   "codemirror_mode": {
    "name": "ipython",
    "version": 3
   },
   "file_extension": ".py",
   "mimetype": "text/x-python",
   "name": "python",
   "nbconvert_exporter": "python",
   "pygments_lexer": "ipython3",
   "version": "3.8.10"
  }
 },
 "nbformat": 4,
 "nbformat_minor": 1
}
